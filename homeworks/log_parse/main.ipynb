{
 "cells": [
  {
   "cell_type": "code",
   "execution_count": 10,
   "outputs": [],
   "source": [
    "from collections import Counter"
   ],
   "metadata": {
    "collapsed": false,
    "pycharm": {
     "name": "#%%\n"
    }
   }
  },
  {
   "cell_type": "code",
   "execution_count": 11,
   "outputs": [],
   "source": [
    "c = Counter()"
   ],
   "metadata": {
    "collapsed": false,
    "pycharm": {
     "name": "#%%\n"
    }
   }
  },
  {
   "cell_type": "code",
   "execution_count": 12,
   "outputs": [],
   "source": [
    "with open('test.txt') as f:\n",
    "    for line in f:\n",
    "        c[line.strip()] += 1"
   ],
   "metadata": {
    "collapsed": false,
    "pycharm": {
     "name": "#%%\n"
    }
   }
  },
  {
   "cell_type": "code",
   "execution_count": 13,
   "outputs": [
    {
     "data": {
      "text/plain": "[('https://sys.mail.ru/calendar/config/254/40247/', 1),\n ('https://sys.mail.ru/calendar/config/254/40241/', 1),\n ('http://sys.mail.ru/stats/get_views_count_for_list/', 1),\n ('http://sys.mail.ru/calendar/meeting/254/40267/', 1),\n ('https://sys.mail.ru/', 1),\n ('https://sys.mail.ru/static/vendor/highlight.pack.js', 1),\n ('https://sys.mail.ru/static/js/new_base_common.js', 1),\n ('http://sys.mail.ru/timeline/full/events/', 1),\n ('http://sys.mail.ru/static/img/coin.svg', 1),\n ('http://sys.mail.ru/media/uploads/10825-c432f58c90f141a7b9039af624eeb82c.gif',\n  1),\n ('http://sys.mail.ru/get_random_advice/', 1),\n ('https://sys.mail.ru/media/uploads/2453-ac55c51b32c54c9b9312a04a50f3d027.jpg',\n  1),\n ('https://sys.mail.ru/media/uploads/2453-f688a0b39d6d48c8b32691ea0029492f.jpg',\n  1),\n ('https://sys.mail.ru/media/uploads/2453-460fcfa34ec54817a3815669acdad5d3.jpg',\n  1),\n ('https://sys.mail.ru/media/uploads/2453-4ca96cc4e2a74522aeca28e245211153.png',\n  1),\n ('https://sys.mail.ru/media/uploads/2453-2155c2bf622e4cb6a6214605f42d179a.jpg',\n  1),\n ('https://sys.mail.ru/media/badge/beidzh-myfriends-128x1281edh4aeo.png', 1),\n ('https://sys.mail.ru/media/covers/cover3347.png', 1),\n ('http://sys.mail.ru/blog/', 1),\n ('http://sys.mail.ru/static/js/publication.js', 1),\n ('https://sys.mail.ru/static/vendor/jsrender-1.0.0.min.js', 1),\n ('https://sys.mail.ru/static/calendar/css/calendar.css', 1),\n ('https://sys.mail.ru/static/calendar/js/calendar.js', 1),\n ('https://sys.mail.ru/notification_center/get_new/', 1),\n ('http://sys.mail.ru/blog/fresh_comments/', 1),\n ('http://sys.mail.ru/blog/active_blogs/', 1),\n ('http://sys.mail.ru/blog/json/', 1),\n ('http://sys.mail.ru/textchunk/blog_section_description/', 1),\n ('http://sys.mail.ru/calendar/config/254/40267/', 1),\n ('http://sys.mail.ru/calendar/config/254/40261/', 1),\n ('http://sys.mail.ru/calendar/config/254/40255/', 1),\n ('http://sys.mail.ru/media/uploads/6579-5bef795dfb3f4b198161e640124c71da.png',\n  1),\n ('https://sys.mail.ru/media/blogs_logo/unnamed.png', 1),\n ('https://sys.mail.ru/calendar/meeting/254/40263/', 1),\n ('http://sys.mail.ru/calendar/meeting/254/40253/', 1),\n ('http://sys.mail.ru/calendar/meeting/254/40257/', 1),\n ('http://sys.mail.ru/calendar/meeting/254/40255/', 1),\n ('http://sys.mail.ru/calendar/meeting/254/40247/', 1),\n ('http://sys.mail.ru/media/uploads/6579-af5e97bec5ac4ae0b8caeccec92d884c.png',\n  1),\n ('http://sys.mail.ru/calendar/meeting/254/40243/', 1),\n ('http://sys.mail.ru/calendar/meeting/254/40241/', 1),\n ('http://sys.mail.ru/media/uploads/4652-20a4998b645c473083af5b90d40db584.jpg',\n  1),\n ('http://sys.mail.ru/media/uploads/12937-f8cfb5bad3db4fd1b8958cc34c65f8b5.jpg',\n  1),\n ('http://sys.mail.ru/media/uploads/4652-9516c2bebdcc44aea119121d9af288fb.jpg',\n  1),\n ('https://sys.mail.ru/media/uploads/4652-a372e385ff9c4e0aacd4dd9e83b18e94.jpg',\n  1),\n ('https://sys.mail.ru/media/uploads/4652-6cc0c638d5644ac881726590937edd63.jpg',\n  1),\n ('https://sys.mail.ru/media/uploads/2453-3a4911f7c9af46aba0f47b51ddf6fa2c.jpg',\n  1),\n ('https://sys.mail.ru/media/uploads/2453-b306955b9e324ddc8f8920ab960b32e7.jpg',\n  1),\n ('https://sys.mail.ru/media/uploads/12937-d2d44a46fc084ff5b782684f1eacdadb.jpg',\n  1),\n ('http://sys.mail.ru/media/uploads/2453-ac55c51b32c54c9b9312a04a50f3d027.jpg',\n  1),\n ('http://sys.mail.ru/media/uploads/2453-4ca96cc4e2a74522aeca28e245211153.png',\n  1),\n ('http://sys.mail.ru/media/uploads/2453-f688a0b39d6d48c8b32691ea0029492f.jpg',\n  1),\n ('http://sys.mail.ru/media/uploads/9615-c66b366495ac45c38d2f2365850e7b51.jpg',\n  1),\n ('http://sys.mail.ru/media/uploads/2453-2155c2bf622e4cb6a6214605f42d179a.jpg',\n  1),\n ('http://sys.mail.ru/media/uploads/2453-460fcfa34ec54817a3815669acdad5d3.jpg',\n  1),\n ('http://sys.mail.ru/media/uploads/7477-e2e29ffbfb0445f881dba6726535ab76.gif',\n  1),\n ('http://sys.mail.ru/media/uploads/9615-07a48743864e4113b8c07265bf1b687f.png',\n  1),\n ('http://sys.mail.ru/media/blogs_logo/Bruce_3.png', 1),\n ('http://sys.mail.ru/media/blogs_logo/marketing-png-1300.png', 1),\n ('https://sys.mail.ru/calendar/config/254/40265/', 1),\n ('https://sys.mail.ru/calendar/config/254/40243/', 1),\n ('https://sys.mail.ru/calendar/meeting/254/40261/', 1),\n ('https://sys.mail.ru/calendar/config/254/40263/', 2),\n ('http://sys.mail.ru/calendar/config/254/40265/', 2),\n ('https://sys.mail.ru/calendar/config/254/40267/', 2),\n ('https://sys.mail.ru/calendar/config/254/40261/', 2),\n ('https://sys.mail.ru/calendar/config/254/40255/', 2),\n ('http://sys.mail.ru/calendar/config/254/40243/', 2),\n ('http://sys.mail.ru/calendar/meeting/254/40261/', 2),\n ('https://sys.mail.ru/media/uploads/2453-35825c54238f4fa995cacbdbdcd95807.jpg',\n  2),\n ('http://sys.mail.ru/calendar/config/254/40263/', 2),\n ('http://sys.mail.ru/blog/fresh_recommended/', 2),\n ('http://sys.mail.ru/calendar/config/254/40247/', 2),\n ('http://sys.mail.ru/calendar/config/254/40241/', 2),\n ('https://sys.mail.ru/calendar/meeting/254/40267/', 2),\n ('https://sys.mail.ru/stats/get_views_count_for_list/', 2),\n ('http://sys.mail.ru/calendar/config/254/40253/', 3),\n ('http://sys.mail.ru/calendar/config/254/40257/', 3),\n ('http://sys.mail.ru/calendar/meeting/254/40265/', 3)]"
     },
     "execution_count": 13,
     "metadata": {},
     "output_type": "execute_result"
    }
   ],
   "source": [
    "sorted(c.items(), key=lambda x: x[1])"
   ],
   "metadata": {
    "collapsed": false,
    "pycharm": {
     "name": "#%%\n"
    }
   }
  },
  {
   "cell_type": "code",
   "execution_count": null,
   "outputs": [],
   "source": [],
   "metadata": {
    "collapsed": false,
    "pycharm": {
     "name": "#%%\n"
    }
   }
  }
 ],
 "metadata": {
  "kernelspec": {
   "display_name": "Python 3",
   "language": "python",
   "name": "python3"
  },
  "language_info": {
   "codemirror_mode": {
    "name": "ipython",
    "version": 2
   },
   "file_extension": ".py",
   "mimetype": "text/x-python",
   "name": "python",
   "nbconvert_exporter": "python",
   "pygments_lexer": "ipython2",
   "version": "2.7.6"
  }
 },
 "nbformat": 4,
 "nbformat_minor": 0
}