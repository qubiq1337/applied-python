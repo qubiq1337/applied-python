{
 "cells": [
  {
   "cell_type": "code",
   "execution_count": 1,
   "id": "d409c47c",
   "metadata": {
    "ExecuteTime": {
     "end_time": "2021-11-02T11:24:16.095880Z",
     "start_time": "2021-11-02T11:24:16.091828Z"
    }
   },
   "outputs": [],
   "source": [
    "from grep import *"
   ]
  },
  {
   "cell_type": "code",
   "execution_count": 2,
   "id": "bdad2f08",
   "metadata": {
    "ExecuteTime": {
     "end_time": "2021-11-02T11:24:16.100206Z",
     "start_time": "2021-11-02T11:24:16.097476Z"
    }
   },
   "outputs": [],
   "source": [
    "lines = [\"vr\", \"baab\", \"abbb\", \"fc\", \"bbb\", \"cc\"]"
   ]
  },
  {
   "cell_type": "code",
   "execution_count": 3,
   "id": "0acdac23",
   "metadata": {
    "ExecuteTime": {
     "end_time": "2021-11-02T11:24:16.107221Z",
     "start_time": "2021-11-02T11:24:16.102854Z"
    }
   },
   "outputs": [],
   "source": [
    "params = parse_args([\"aa\", \"-n\", \"-C1\"])"
   ]
  },
  {
   "cell_type": "code",
   "execution_count": 4,
   "id": "0ba989f5",
   "metadata": {
    "ExecuteTime": {
     "end_time": "2021-11-02T11:24:16.118155Z",
     "start_time": "2021-11-02T11:24:16.108864Z"
    }
   },
   "outputs": [
    {
     "data": {
      "text/plain": [
       "Namespace(after_context=0, before_context=0, context=1, count=False, ignore_case=False, invert=False, line_number=True, pattern='aa')"
      ]
     },
     "execution_count": 4,
     "metadata": {},
     "output_type": "execute_result"
    }
   ],
   "source": [
    "params"
   ]
  },
  {
   "cell_type": "code",
   "execution_count": 5,
   "id": "9b262f49",
   "metadata": {
    "ExecuteTime": {
     "end_time": "2021-11-02T11:24:16.122875Z",
     "start_time": "2021-11-02T11:24:16.119614Z"
    }
   },
   "outputs": [
    {
     "name": "stdout",
     "output_type": "stream",
     "text": [
      "1-vr\n",
      "2-baab\n",
      "3-abbb\n"
     ]
    }
   ],
   "source": [
    "grep(lines, params)"
   ]
  },
  {
   "cell_type": "code",
   "execution_count": null,
   "id": "805d503f",
   "metadata": {},
   "outputs": [],
   "source": []
  },
  {
   "cell_type": "code",
   "execution_count": null,
   "id": "5f621daf",
   "metadata": {},
   "outputs": [],
   "source": []
  }
 ],
 "metadata": {
  "kernelspec": {
   "display_name": "Python 3 (ipykernel)",
   "language": "python",
   "name": "python3"
  },
  "language_info": {
   "codemirror_mode": {
    "name": "ipython",
    "version": 3
   },
   "file_extension": ".py",
   "mimetype": "text/x-python",
   "name": "python",
   "nbconvert_exporter": "python",
   "pygments_lexer": "ipython3",
   "version": "3.8.6"
  },
  "varInspector": {
   "cols": {
    "lenName": 16,
    "lenType": 16,
    "lenVar": 40
   },
   "kernels_config": {
    "python": {
     "delete_cmd_postfix": "",
     "delete_cmd_prefix": "del ",
     "library": "var_list.py",
     "varRefreshCmd": "print(var_dic_list())"
    },
    "r": {
     "delete_cmd_postfix": ") ",
     "delete_cmd_prefix": "rm(",
     "library": "var_list.r",
     "varRefreshCmd": "cat(var_dic_list()) "
    }
   },
   "types_to_exclude": [
    "module",
    "function",
    "builtin_function_or_method",
    "instance",
    "_Feature"
   ],
   "window_display": false
  }
 },
 "nbformat": 4,
 "nbformat_minor": 5
}
